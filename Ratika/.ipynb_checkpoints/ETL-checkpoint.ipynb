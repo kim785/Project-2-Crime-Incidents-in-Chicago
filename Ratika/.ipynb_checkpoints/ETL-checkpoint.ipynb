{
 "cells": [
  {
   "cell_type": "code",
   "execution_count": 1,
   "id": "a05720e8",
   "metadata": {},
   "outputs": [],
   "source": [
    "#DEpendencies\n",
    "import pandas as pd\n",
    "import numpy as np\n",
    "import json\n",
    "import os\n",
    "import requests \n",
    "import pymongo"
   ]
  },
  {
   "cell_type": "markdown",
   "id": "75c609ac",
   "metadata": {},
   "source": [
    "# Perform API CALL"
   ]
  },
  {
   "cell_type": "code",
   "execution_count": 2,
   "id": "b555747a",
   "metadata": {},
   "outputs": [],
   "source": [
    "#Specify the URL\n",
    "#url = \"https://data.cityofchicago.org/resource/ijzp-q8t2.json?$where=year > 2017\"\n",
    "#geojson_url = \"https://data.cityofchicago.org/resource/ijzp-q8t2.geojson?$where=year > 2015\"\n",
    "\n",
    "api_fromat = \"json\"\n",
    "limit = 5000\n",
    "year=2021\n",
    "count = 50000\n",
    "start= 0\n",
    "results =[]\n",
    "\n",
    "\n",
    "# https://data.cityofchicago.org/resource/ijzp-q8t2.json?$where=year > 2015"
   ]
  },
  {
   "cell_type": "code",
   "execution_count": null,
   "id": "4a10e285",
   "metadata": {},
   "outputs": [],
   "source": [
    "#url =\"https://data.cityofchicago.org/resource/ijzp-q8t2.geojson?$limit=50000&$offset=0&$order=id&$where=year > 2017\"\n",
    "url =\"https://data.cityofchicago.org/resource/ijzp-q8t2.geojson?$limit=50000&$offset=0&$order=id&$where=year > 2017\""
   ]
  },
  {
   "cell_type": "code",
   "execution_count": 4,
   "id": "504dc2f7",
   "metadata": {},
   "outputs": [],
   "source": [
    "#for i in range(14):\n",
    " #   page = requests.get(f\"https://data.cityofchicago.org/resource/ijzp-q8t2.geojson?$limit=50000&$offset=0&$order=id&$where=year > 2017\")\n",
    "  #  start +=count\n",
    "    # results +=page"
   ]
  },
  {
   "cell_type": "code",
   "execution_count": 6,
   "id": "17d81357",
   "metadata": {},
   "outputs": [],
   "source": [
    "#for i in range(14):\n",
    " #   page = requests.get(f\"https://data.cityofchicago.org/resource/ijzp-q8t2.geojson?$limit={count}&offset={start}&$where=year > 2017\")\n",
    "  #  start += count\n",
    "   # results += page"
   ]
  },
  {
   "cell_type": "code",
   "execution_count": null,
   "id": "95509fd9",
   "metadata": {},
   "outputs": [],
   "source": [
    "\n",
    "crime_response = requests.get(url)\n",
    "#response_geojson = requests.get(geojson_url)\n",
    "crime_response\n",
    "# Print status code\n",
    "print(crime_response .status_code)"
   ]
  },
  {
   "cell_type": "code",
   "execution_count": null,
   "id": "4968da02",
   "metadata": {},
   "outputs": [],
   "source": [
    "# JSON-ify response\n",
    "response_json = crime_response.json()\n",
    "response = response_json[\"features\"]"
   ]
  },
  {
   "cell_type": "code",
   "execution_count": null,
   "id": "0304da65",
   "metadata": {},
   "outputs": [],
   "source": [
    "# Print first crime\n",
    "print(f\"The first response is {json.dumps(response[0], indent=2)}.\")\n"
   ]
  },
  {
   "cell_type": "code",
   "execution_count": null,
   "id": "7d6330b2",
   "metadata": {},
   "outputs": [],
   "source": [
    "print(f\"We received {len(response)} responses.\")"
   ]
  },
  {
   "cell_type": "code",
   "execution_count": null,
   "id": "230ff5af",
   "metadata": {},
   "outputs": [],
   "source": [
    "conn = 'mongodb://localhost:27017'\n",
    "client = pymongo.MongoClient(conn)\n",
    "\n",
    "# Define the 'classDB' database in Mongo\n",
    "db = client.chicago_crime"
   ]
  },
  {
   "cell_type": "code",
   "execution_count": null,
   "id": "5e827f3b",
   "metadata": {},
   "outputs": [],
   "source": [
    "collection = db.events"
   ]
  },
  {
   "cell_type": "code",
   "execution_count": null,
   "id": "e166cb8a",
   "metadata": {},
   "outputs": [],
   "source": [
    "collection.insert_many(response)    "
   ]
  },
  {
   "cell_type": "code",
   "execution_count": null,
   "id": "ac42e0e9",
   "metadata": {},
   "outputs": [],
   "source": [
    "# query the classroom collection in flask application\n",
    "#classroom = db.classroom.find()\n",
    "crime = collection.find()"
   ]
  },
  {
   "cell_type": "code",
   "execution_count": null,
   "id": "d75a804f",
   "metadata": {},
   "outputs": [],
   "source": [
    "crime.count()"
   ]
  },
  {
   "cell_type": "code",
   "execution_count": null,
   "id": "51ab3774",
   "metadata": {},
   "outputs": [],
   "source": []
  }
 ],
 "metadata": {
  "kernelspec": {
   "display_name": "Python 3",
   "language": "python",
   "name": "python3"
  },
  "language_info": {
   "codemirror_mode": {
    "name": "ipython",
    "version": 3
   },
   "file_extension": ".py",
   "mimetype": "text/x-python",
   "name": "python",
   "nbconvert_exporter": "python",
   "pygments_lexer": "ipython3",
   "version": "3.8.8"
  }
 },
 "nbformat": 4,
 "nbformat_minor": 5
}
