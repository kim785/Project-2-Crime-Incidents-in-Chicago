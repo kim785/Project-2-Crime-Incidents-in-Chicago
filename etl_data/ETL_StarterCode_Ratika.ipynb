{
 "cells": [
  {
   "cell_type": "markdown",
   "id": "bee7f476",
   "metadata": {},
   "source": [
    "# Import Libraries"
   ]
  },
  {
   "cell_type": "code",
   "execution_count": 1,
   "id": "a05720e8",
   "metadata": {},
   "outputs": [],
   "source": [
    "#Dependencies\n",
    "import pandas as pd\n",
    "import numpy as np\n",
    "import json\n",
    "import os\n",
    "import requests \n",
    "import pymongo"
   ]
  },
  {
   "cell_type": "markdown",
   "id": "75c609ac",
   "metadata": {},
   "source": [
    "# Perform API CALL"
   ]
  },
  {
   "cell_type": "code",
   "execution_count": 2,
   "id": "4a10e285",
   "metadata": {},
   "outputs": [],
   "source": [
    "#Base URL for grabbing data from City Of Chicago\n",
    "base_url =\"https://data.cityofchicago.org/resource/ijzp-q8t2.geojson\"\n",
    "\n",
    "#Specify the Test URL with limit and offset parameters\n",
    "#test_url =\"https://data.cityofchicago.org/resource/ijzp-q8t2.geojson?$limit=50000&$offset=0&$order=id&$where=year>2017\"\n"
   ]
  },
  {
   "cell_type": "markdown",
   "id": "3d3b03ad",
   "metadata": {},
   "source": [
    "### Define query paramerters to pull data from API"
   ]
  },
  {
   "cell_type": "code",
   "execution_count": 3,
   "id": "b555747a",
   "metadata": {},
   "outputs": [],
   "source": [
    "offset= 0\n",
    "limit = 50000 #50000\n",
    "year =2020\n",
    "\n",
    "# Set empty lists to hold the combined data\n",
    "crime_data = []"
   ]
  },
  {
   "cell_type": "markdown",
   "id": "d9a83a5b",
   "metadata": {},
   "source": [
    "### Paging through the data using query parameters"
   ]
  },
  {
   "cell_type": "code",
   "execution_count": 4,
   "id": "17d81357",
   "metadata": {},
   "outputs": [
    {
     "name": "stdout",
     "output_type": "stream",
     "text": [
      "Loading data from https://data.cityofchicago.org/resource/ijzp-q8t2.geojson?$limit=50000&$offset=0&$order=id&year=2020\n",
      "Data Load completed for  2020\n",
      "Loading data from https://data.cityofchicago.org/resource/ijzp-q8t2.geojson?$limit=50000&$offset=50000&$order=id&year=2020\n",
      "Data Load completed for  2020\n",
      "Loading data from https://data.cityofchicago.org/resource/ijzp-q8t2.geojson?$limit=50000&$offset=100000&$order=id&year=2020\n",
      "Data Load completed for  2020\n",
      "Loading data from https://data.cityofchicago.org/resource/ijzp-q8t2.geojson?$limit=50000&$offset=150000&$order=id&year=2020\n",
      "Data Load completed for  2020\n",
      "Loading data from https://data.cityofchicago.org/resource/ijzp-q8t2.geojson?$limit=50000&$offset=200000&$order=id&year=2020\n",
      "Data Load completed for  2020\n"
     ]
    }
   ],
   "source": [
    "#Paging through the data using query parameters - Loop through from pages\n",
    "for i in range(5):\n",
    "     query_url =f\"{base_url}?$limit={limit}&$offset={offset}&$order=id&year={year}\"\n",
    "     #query_url =f\"{base_url}?$limit={limit}&$offset={offset}&$order=id&$where=year=2018\"\n",
    "     #query_url =f\"{base_url}?$limit={limit}&$offset={offset}&$order=id&$where=(year>2017&&year<2020)\"\n",
    "     print(\"Loading data from\", query_url)\n",
    "     response = requests.get(query_url)\n",
    "     data = response.json()\n",
    "     #page = requests.get(f\"https://data.cityofchicago.org/resource/ijzp-q8t2.geojson?$limit={limit}&$offset={offset}&$order=id&$where=year > 2017\")\n",
    "     offset += limit\n",
    "     #crime_data += data\n",
    "     crime_data = crime_data + data['features']\n",
    "     print(\"Data Load completed for \", year)"
   ]
  },
  {
   "cell_type": "markdown",
   "id": "552231ac",
   "metadata": {},
   "source": [
    "### Print first crime"
   ]
  },
  {
   "cell_type": "code",
   "execution_count": 5,
   "id": "1d41b7b1",
   "metadata": {},
   "outputs": [
    {
     "data": {
      "text/plain": [
       "{'type': 'Feature',\n",
       " 'geometry': {'type': 'Point', 'coordinates': [-87.561272312, 41.764728045]},\n",
       " 'properties': {'location_state': '',\n",
       "  'location_zip': '',\n",
       "  'x_coordinate': '1194878',\n",
       "  'domestic': False,\n",
       "  'latitude': '41.764728045',\n",
       "  'updated_on': '2020-06-20T15:48:45.000',\n",
       "  'description': 'FIRST DEGREE MURDER',\n",
       "  'location_address': '',\n",
       "  'arrest': True,\n",
       "  'location_city': '',\n",
       "  'year': '2020',\n",
       "  'longitude': '-87.561272312',\n",
       "  'block': '072XX S SOUTH SHORE DR',\n",
       "  'fbi_code': '01A',\n",
       "  'ward': '7',\n",
       "  'id': '24889',\n",
       "  'date': '2020-01-02T02:54:00.000',\n",
       "  'beat': '0334',\n",
       "  'y_coordinate': '1857803',\n",
       "  'community_area': '43',\n",
       "  'location_description': 'APARTMENT',\n",
       "  'district': '003',\n",
       "  'iucr': '0110',\n",
       "  'case_number': 'JD101272',\n",
       "  'primary_type': 'HOMICIDE'}}"
      ]
     },
     "execution_count": 5,
     "metadata": {},
     "output_type": "execute_result"
    }
   ],
   "source": [
    "# Print first crime\n",
    "#print(f\"The first response is {json.dumps(crime_data[0], indent=2)}.\")\n",
    "crime_data[0]"
   ]
  },
  {
   "cell_type": "code",
   "execution_count": 6,
   "id": "7d6330b2",
   "metadata": {},
   "outputs": [
    {
     "name": "stdout",
     "output_type": "stream",
     "text": [
      "We received 211349 responses.\n"
     ]
    }
   ],
   "source": [
    "print(f\"We received {len(crime_data)} responses.\")"
   ]
  },
  {
   "cell_type": "markdown",
   "id": "e6d6dc93",
   "metadata": {},
   "source": [
    "### Data Preprocessing - JSON File"
   ]
  },
  {
   "cell_type": "code",
   "execution_count": 7,
   "id": "a9b35da1",
   "metadata": {},
   "outputs": [
    {
     "data": {
      "text/plain": [
       "Index(['type', 'geometry.type', 'geometry.coordinates',\n",
       "       'properties.location_state', 'properties.location_zip',\n",
       "       'properties.x_coordinate', 'properties.domestic', 'properties.latitude',\n",
       "       'properties.updated_on', 'properties.description',\n",
       "       'properties.location_address', 'properties.arrest',\n",
       "       'properties.location_city', 'properties.year', 'properties.longitude',\n",
       "       'properties.block', 'properties.fbi_code', 'properties.ward',\n",
       "       'properties.id', 'properties.date', 'properties.beat',\n",
       "       'properties.y_coordinate', 'properties.community_area',\n",
       "       'properties.location_description', 'properties.district',\n",
       "       'properties.iucr', 'properties.case_number', 'properties.primary_type',\n",
       "       'geometry'],\n",
       "      dtype='object')"
      ]
     },
     "execution_count": 7,
     "metadata": {},
     "output_type": "execute_result"
    }
   ],
   "source": [
    "#Validation Columns\n",
    "crime_data_pd = pd.json_normalize(crime_data)\n",
    "crime_data_pd.head()\n",
    "crime_data_pd.columns"
   ]
  },
  {
   "cell_type": "code",
   "execution_count": 8,
   "id": "e502b6cd",
   "metadata": {},
   "outputs": [
    {
     "data": {
      "text/plain": [
       "{'type': 'Feature',\n",
       " 'geometry.type': 'Point',\n",
       " 'geometry.coordinates': [-87.561272312, 41.764728045],\n",
       " 'properties.location_state': '',\n",
       " 'properties.location_zip': '',\n",
       " 'properties.x_coordinate': '1194878',\n",
       " 'properties.domestic': False,\n",
       " 'properties.latitude': '41.764728045',\n",
       " 'properties.updated_on': '2020-06-20T15:48:45.000',\n",
       " 'properties.description': 'FIRST DEGREE MURDER',\n",
       " 'properties.location_address': '',\n",
       " 'properties.arrest': True,\n",
       " 'properties.location_city': '',\n",
       " 'properties.year': '2020',\n",
       " 'properties.longitude': '-87.561272312',\n",
       " 'properties.block': '072XX S SOUTH SHORE DR',\n",
       " 'properties.fbi_code': '01A',\n",
       " 'properties.ward': '7',\n",
       " 'properties.id': '24890',\n",
       " 'properties.date': '2020-01-02T03:17:00.000',\n",
       " 'properties.beat': '0334',\n",
       " 'properties.y_coordinate': '1857803',\n",
       " 'properties.community_area': '43',\n",
       " 'properties.location_description': 'APARTMENT',\n",
       " 'properties.district': '003',\n",
       " 'properties.iucr': '0110',\n",
       " 'properties.case_number': 'JD101272',\n",
       " 'properties.primary_type': 'HOMICIDE',\n",
       " 'geometry': None}"
      ]
     },
     "execution_count": 8,
     "metadata": {},
     "output_type": "execute_result"
    }
   ],
   "source": [
    "#Test transform pd to json\n",
    "data_json = json.loads(crime_data_pd.to_json(orient='records'))\n",
    "data_json[1]"
   ]
  },
  {
   "cell_type": "code",
   "execution_count": 9,
   "id": "0c53b948",
   "metadata": {},
   "outputs": [],
   "source": [
    "# Get rid of unnecessary columns\n",
    "for property in crime_data:\n",
    "    properties = (property['properties'])\n",
    "    del (properties['iucr'])\n",
    "    del (properties['updated_on'])\n",
    "    del (properties['fbi_code'])\n",
    "    del (properties['case_number'])\n",
    "    del (properties['ward'])   \n",
    "    del (properties['beat'])\n",
    "    del (properties['community_area'])\n",
    "    del (properties['location_zip'])\n",
    "    del (properties['location_city'])"
   ]
  },
  {
   "cell_type": "code",
   "execution_count": 10,
   "id": "58231cb6",
   "metadata": {},
   "outputs": [
    {
     "data": {
      "text/plain": [
       "{'type': 'Feature',\n",
       " 'geometry': {'type': 'Point', 'coordinates': [-87.561272312, 41.764728045]},\n",
       " 'properties': {'location_state': '',\n",
       "  'location_zip': '',\n",
       "  'x_coordinate': '1194878',\n",
       "  'domestic': False,\n",
       "  'latitude': '41.764728045',\n",
       "  'description': 'FIRST DEGREE MURDER',\n",
       "  'location_address': '',\n",
       "  'arrest': True,\n",
       "  'location_city': '',\n",
       "  'year': '2020',\n",
       "  'longitude': '-87.561272312',\n",
       "  'block': '072XX S SOUTH SHORE DR',\n",
       "  'id': '24889',\n",
       "  'date': '2020-01-02T02:54:00.000',\n",
       "  'y_coordinate': '1857803',\n",
       "  'location_description': 'APARTMENT',\n",
       "  'primary_type': 'HOMICIDE'}}"
      ]
     },
     "execution_count": 10,
     "metadata": {},
     "output_type": "execute_result"
    }
   ],
   "source": [
    "crime_data[0]"
   ]
  },
  {
   "cell_type": "markdown",
   "id": "5950cb20",
   "metadata": {},
   "source": [
    "### Loading Data to MONGODB  Database"
   ]
  },
  {
   "cell_type": "code",
   "execution_count": 11,
   "id": "230ff5af",
   "metadata": {},
   "outputs": [],
   "source": [
    "conn = 'mongodb://localhost:27017'\n",
    "client = pymongo.MongoClient(conn)\n",
    "\n",
    "# Define the database in Mongo\n",
    "db = client.chicago_crime"
   ]
  },
  {
   "cell_type": "code",
   "execution_count": 12,
   "id": "5e827f3b",
   "metadata": {},
   "outputs": [],
   "source": [
    "collection = db.events"
   ]
  },
  {
   "cell_type": "code",
   "execution_count": 13,
   "id": "e166cb8a",
   "metadata": {},
   "outputs": [
    {
     "data": {
      "text/plain": [
       "<pymongo.results.InsertManyResult at 0x2ad58e25cc0>"
      ]
     },
     "execution_count": 13,
     "metadata": {},
     "output_type": "execute_result"
    }
   ],
   "source": [
    "collection.insert_many(crime_data)    "
   ]
  },
  {
   "cell_type": "code",
   "execution_count": 14,
   "id": "ac42e0e9",
   "metadata": {},
   "outputs": [],
   "source": [
    "# query the classroom collection in flask application\n",
    "#classroom = db.classroom.find()\n",
    "crime = collection.find()"
   ]
  },
  {
   "cell_type": "code",
   "execution_count": 15,
   "id": "d75a804f",
   "metadata": {},
   "outputs": [
    {
     "name": "stderr",
     "output_type": "stream",
     "text": [
      "<ipython-input-15-c7bd921b95df>:1: DeprecationWarning: count is deprecated. Use Collection.count_documents instead.\n",
      "  crime.count()\n"
     ]
    },
    {
     "data": {
      "text/plain": [
       "211349"
      ]
     },
     "execution_count": 15,
     "metadata": {},
     "output_type": "execute_result"
    }
   ],
   "source": [
    "crime.count()"
   ]
  }
 ],
 "metadata": {
  "kernelspec": {
   "display_name": "Python 3",
   "language": "python",
   "name": "python3"
  },
  "language_info": {
   "codemirror_mode": {
    "name": "ipython",
    "version": 3
   },
   "file_extension": ".py",
   "mimetype": "text/x-python",
   "name": "python",
   "nbconvert_exporter": "python",
   "pygments_lexer": "ipython3",
   "version": "3.8.8"
  }
 },
 "nbformat": 4,
 "nbformat_minor": 5
}
